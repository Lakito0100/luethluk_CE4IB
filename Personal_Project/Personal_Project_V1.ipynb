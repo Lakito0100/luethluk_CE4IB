{
 "cells": [
  {
   "metadata": {
    "ExecuteTime": {
     "end_time": "2025-10-29T18:40:15.638695Z",
     "start_time": "2025-10-29T18:40:13.964234Z"
    }
   },
   "cell_type": "code",
   "source": [
    "import numpy as np\n",
    "import pandas as pd\n",
    "import matplotlib.pyplot as plt\n",
    "\n",
    "import dm4bem"
   ],
   "id": "dc7555ae006761d0",
   "outputs": [],
   "execution_count": 1
  },
  {
   "metadata": {},
   "cell_type": "markdown",
   "source": [
    "# Defining the simulation parameters\n",
    "\n",
    "## Define the setup"
   ],
   "id": "29b83a4dae477c8d"
  },
  {
   "metadata": {
    "ExecuteTime": {
     "end_time": "2025-10-29T18:40:15.665470Z",
     "start_time": "2025-10-29T18:40:15.659009Z"
    }
   },
   "cell_type": "code",
   "source": [
    "controller = True\n",
    "imposed_time_step = False\n",
    "delta_t = 498    # s, imposed time step\n",
    "\n",
    "output_nodes = [25]"
   ],
   "id": "271514eeb0f7c48",
   "outputs": [],
   "execution_count": 2
  },
  {
   "metadata": {},
   "cell_type": "markdown",
   "source": "## Outside conditions",
   "id": "9886914e6a426163"
  },
  {
   "metadata": {
    "ExecuteTime": {
     "end_time": "2025-10-29T18:40:15.896701Z",
     "start_time": "2025-10-29T18:40:15.695332Z"
    }
   },
   "cell_type": "code",
   "source": [
    "To_ss = 10          # °C\n",
    "To_stp = 10         # °C\n",
    "\n",
    "target = pd.to_datetime(\"2020-09-14 10:00\").tz_localize(\"UTC+01:00\")\n",
    "\n",
    "# weather data\n",
    "filename = './weather_data/CHE_AG_Wuerenlingen.066470_TMYx.2009-2023.epw'\n",
    "[data, meta] = dm4bem.read_epw(filename, coerce_year=None)\n",
    "weather_data = data[[\"temp_air\", \"dir_n_rad\", \"dif_h_rad\"]]\n",
    "weather_data = weather_data.sort_index()\n",
    "idx_pos = weather_data.index.get_indexer([target], method='nearest')[0]\n",
    "nearest_data = weather_data.iloc[idx_pos]\n",
    "print(\"first timestamp:\", weather_data.index.min())\n",
    "print(\"last timestamp:\",  weather_data.index.max())\n",
    "print(nearest_data)"
   ],
   "id": "99a675f214600f0c",
   "outputs": [
    {
     "name": "stdout",
     "output_type": "stream",
     "text": [
      "first timestamp: 2015-03-01 00:00:00+01:00\n",
      "last timestamp: 2022-04-30 23:00:00+01:00\n",
      "temp_air     15.5\n",
      "dir_n_rad     0.0\n",
      "dif_h_rad     0.0\n",
      "Name: 2020-08-31 23:00:00+01:00, dtype: float64\n"
     ]
    }
   ],
   "execution_count": 3
  },
  {
   "metadata": {},
   "cell_type": "markdown",
   "source": "## Controller",
   "id": "929e37e28ed70191"
  },
  {
   "metadata": {
    "ExecuteTime": {
     "end_time": "2025-10-29T18:40:15.942138Z",
     "start_time": "2025-10-29T18:40:15.935148Z"
    }
   },
   "cell_type": "code",
   "source": [
    "Tisp = 22     # °C\n",
    "\n",
    "if controller:\n",
    "    Kp = 1e3\n",
    "else:\n",
    "    Kp = 0"
   ],
   "id": "ac1abf07d1f49301",
   "outputs": [],
   "execution_count": 4
  },
  {
   "metadata": {},
   "cell_type": "markdown",
   "source": "## Ventilation",
   "id": "7fd88072e7a43127"
  },
  {
   "metadata": {
    "ExecuteTime": {
     "end_time": "2025-10-29T18:40:15.961660Z",
     "start_time": "2025-10-29T18:40:15.956881Z"
    }
   },
   "cell_type": "code",
   "source": "ACH = 1.0",
   "id": "43dfcd6f65bf8474",
   "outputs": [],
   "execution_count": 5
  },
  {
   "metadata": {},
   "cell_type": "markdown",
   "source": "## Material properties",
   "id": "782e350331a0e893"
  },
  {
   "metadata": {
    "ExecuteTime": {
     "end_time": "2025-10-29T18:40:15.979869Z",
     "start_time": "2025-10-29T18:40:15.974313Z"
    }
   },
   "cell_type": "code",
   "source": [
    "# concrete\n",
    "lam_concrete = 1.4                          # W/(m⋅K)\n",
    "c_concrete = 880.0                          # J/(kg⋅K)\n",
    "rho_concrete = 2300.0                       # kg/m3\n",
    "\n",
    "# insulation\n",
    "lam_insulation = 0.004                      # W/(m⋅K)\n",
    "c_insulation = 1210.0                       # J/(kg⋅K)\n",
    "rho_insulation = 55.0                       # kg/m3\n",
    "\n",
    "# ceiling\n",
    "lam_ceiling = (lam_concrete+lam_insulation)/2 # W/(m⋅K)\n",
    "c_ceiling = (c_concrete+c_insulation)/2     # J/(kg⋅K)\n",
    "rho_ceiling = (rho_concrete+rho_insulation)/2 # kg/m3\n",
    "\n",
    "# windows\n",
    "u_window = 2                                # W/(m²⋅K)\n",
    "\n",
    "# air\n",
    "cp_air = 1006                               # J/(kg⋅K)\n",
    "rho_air = 1.2                               # kg/m3"
   ],
   "id": "f68fea891ecdc179",
   "outputs": [],
   "execution_count": 6
  },
  {
   "metadata": {},
   "cell_type": "markdown",
   "source": "## Convection coefficients",
   "id": "3ad5a29cf483f69"
  },
  {
   "metadata": {
    "ExecuteTime": {
     "end_time": "2025-10-29T18:40:15.993440Z",
     "start_time": "2025-10-29T18:40:15.990045Z"
    }
   },
   "cell_type": "code",
   "source": [
    "h_in = 7.7                                  # W/(m²⋅K)\n",
    "h_out = 25                                  # W/(m²⋅K)\n",
    "\n",
    "h_c_in = 7.7                                # W/(m²⋅K)\n",
    "h_c_out = 25                                # W/(m²⋅K)"
   ],
   "id": "b65f812fdf128200",
   "outputs": [],
   "execution_count": 7
  },
  {
   "metadata": {},
   "cell_type": "markdown",
   "source": "## Geometry",
   "id": "1c8fe4d76348930"
  },
  {
   "metadata": {
    "ExecuteTime": {
     "end_time": "2025-10-29T18:40:16.008999Z",
     "start_time": "2025-10-29T18:40:16.003624Z"
    }
   },
   "cell_type": "code",
   "source": [
    "height_room = 2.5                             # m\n",
    "\n",
    "w_concrete = 0.4                            # m\n",
    "w_insulation = 0.05                         # m\n",
    "w_ceiling = 0.8                             # m\n",
    "\n",
    "width_wall1 = 5.3                             # m\n",
    "width_wall2 = 9.5                            # m\n",
    "width_wall3 = 9.2                            # m\n",
    "width_wall4 = 3.3                             # m\n",
    "\n",
    "width_windows = 2.5                           # m\n",
    "\n",
    "A_window_1 = width_windows*height_room      # m²\n",
    "A_wall_1 = width_wall1*height_room-A_window_1       # m²\n",
    "\n",
    "A_window_2 = width_windows*height_room * 2  # m²\n",
    "A_wall_2 = width_wall2*height_room-A_window_2      # m²\n",
    "\n",
    "A_ceiling = width_wall1*width_wall3 - width_wall3*(width_wall1-width_wall4)/2   # m²\n",
    "\n",
    "angle_wall = 80                             # °\n",
    "\n",
    "# Orientation definition\n",
    "wall_1_orientation = {'slope': 90,\n",
    "                      'azimuth': -90,\n",
    "                      'latitude': 45}\n",
    "albedo_wall_1 = 0.55\n",
    "\n",
    "wall_2_orientation = {'slope': 90,\n",
    "                      'azimuth': 90-angle_wall,\n",
    "                      'latitude': 45}\n",
    "albedo_wall_2 = 0.55\n",
    "\n",
    "ceiling_orientation = {'slope': 180,\n",
    "                       'azimuth': 0,\n",
    "                       'latitude':45}\n",
    "albedo_ceiling = 0.55"
   ],
   "id": "9453a537a054bb79",
   "outputs": [],
   "execution_count": 8
  },
  {
   "metadata": {},
   "cell_type": "markdown",
   "source": "## Emmisivities & view factors",
   "id": "7f19dda55cf6ef74"
  },
  {
   "metadata": {
    "ExecuteTime": {
     "end_time": "2025-10-29T18:40:16.026343Z",
     "start_time": "2025-10-29T18:40:16.018723Z"
    }
   },
   "cell_type": "code",
   "source": [
    "sigma = 5.67e-8     # W/(m²⋅K⁴) Stefan-Bolzmann constant\n",
    "\n",
    "eps_i = 0.96\n",
    "eps_a_w = 0.8\n",
    "eps_a_c = 0.7\n",
    "# check calculation ------------------------------------------------------------------------------------\n",
    "A12 = width_wall1/width_wall2\n",
    "F12 = (A12+1-np.sqrt(A12**2+1-2*A12*np.cos((angle_wall/360) * 2*np.pi)))/2\n",
    "H1c = width_wall2/width_wall1\n",
    "F1c = 0.5*(1+H1c - np.sqrt(1+H1c**2))\n",
    "H2c = width_wall1/width_wall2\n",
    "F2c = 0.5*(1+H2c - np.sqrt(1+H2c**2))"
   ],
   "id": "8ecbdf1acf9b33f4",
   "outputs": [],
   "execution_count": 9
  },
  {
   "metadata": {},
   "cell_type": "markdown",
   "source": [
    "# Defining the matrices and vectrors\n",
    "\n",
    "## A"
   ],
   "id": "377f7de845359055"
  },
  {
   "metadata": {
    "ExecuteTime": {
     "end_time": "2025-10-29T18:40:16.051034Z",
     "start_time": "2025-10-29T18:40:16.039778Z"
    }
   },
   "cell_type": "code",
   "source": [
    "n_nodes = 25\n",
    "n_flows = 39\n",
    "\n",
    "A = np.zeros((n_flows+1, n_nodes+1))\n",
    "A[0,0] = 1\n",
    "A[1,0] = -1; A[1,1] = 1\n",
    "A[2,1] = -1; A[2,2] = 1\n",
    "A[3,2] = -1; A[3,3] = 1\n",
    "A[4,3] = -1; A[4,4] = 1\n",
    "A[5,4] = -1; A[5,5] = 1\n",
    "A[6,5] = -1; A[6,6] = 1\n",
    "A[7,6] = -1; A[7,7] = 1\n",
    "A[8,7] = -1; A[8,8] = 1\n",
    "A[9,8] = -1; A[9,25] = 1\n",
    "A[10,8] = -1; A[10,18] = 1\n",
    "A[11,9] = 1\n",
    "A[12,9] = -1; A[12,25] = 1\n",
    "A[13,8] = -1; A[13,19] = 1\n",
    "A[14,9] = -1; A[14,18] = 1\n",
    "A[15,10] = 1\n",
    "A[16,10] = -1; A[16,11] = 1\n",
    "A[17,11] = -1; A[17,12] = 1\n",
    "A[18,12] = -1; A[18,13] = 1\n",
    "A[19,13] = -1; A[19,14] = 1\n",
    "A[20,14] = -1; A[20,15] = 1\n",
    "A[21,15] = -1; A[21,16] = 1\n",
    "A[22,16] = -1; A[22,17] = 1\n",
    "A[23,17] = -1; A[23,18] = 1\n",
    "A[24,18] = -1; A[24,25] = 1\n",
    "A[25,9] = -1; A[25,19] = 1\n",
    "A[26,19] = 1\n",
    "A[27,19] = -1; A[27,25] = 1\n",
    "A[28,20] = 1\n",
    "A[29,20] = -1; A[29,21] = 1\n",
    "A[30,21] = -1; A[30,22] = 1\n",
    "A[31,22] = -1; A[31,23] = 1\n",
    "A[32,23] = -1; A[32,24] = 1\n",
    "A[33,24] = -1; A[33,8] = 1\n",
    "A[34,24] = -1; A[34,9] = 1\n",
    "A[35,24] = -1; A[35,18] = 1\n",
    "A[36,24] = -1; A[36,19] = 1\n",
    "A[37,24] = -1; A[37,25] = 1\n",
    "A[38,25] = 1\n",
    "A[39,25] = 1\n"
   ],
   "id": "29f18080af464a8b",
   "outputs": [],
   "execution_count": 10
  },
  {
   "metadata": {},
   "cell_type": "markdown",
   "source": "## G",
   "id": "8175b43e4b95e69f"
  },
  {
   "metadata": {
    "ExecuteTime": {
     "end_time": "2025-10-29T18:40:16.070153Z",
     "start_time": "2025-10-29T18:40:16.063184Z"
    }
   },
   "cell_type": "code",
   "source": [
    "G = np.zeros(n_flows+1)\n",
    "\n",
    "# wall 1\n",
    "G[0] = h_out*A_wall_1\n",
    "\n",
    "# conduction concrete\n",
    "for i in [5,6,7,8]:\n",
    "    G[i] = lam_concrete*A_wall_1/w_concrete\n",
    "\n",
    "# conduction insulation\n",
    "for i in [1,2,3,4]:\n",
    "    G[i] = lam_insulation*A_wall_1/w_insulation\n",
    "\n",
    "G[9] = h_in*A_wall_1\n",
    "\n",
    "# window 1\n",
    "G[11] = u_window*A_window_1\n",
    "G[12] = h_in*A_window_1\n",
    "\n",
    "# wall 2\n",
    "G[15] = h_out*A_wall_2\n",
    "\n",
    "# conduction concrete\n",
    "for i in [20,21,22,23]:\n",
    "    G[i] = lam_concrete*A_wall_2/w_concrete\n",
    "\n",
    "# conduction insulation\n",
    "for i in [16,17,18,19]:\n",
    "    G[i] = lam_insulation*A_wall_2/w_insulation\n",
    "\n",
    "G[24] = h_in*A_wall_2\n",
    "\n",
    "# window 2\n",
    "G[26] = u_window*A_window_2\n",
    "G[27] = h_in*A_window_2\n",
    "\n",
    "# ceiling\n",
    "G[28] = h_c_out*A_ceiling\n",
    "\n",
    "for i in [29,30,31,32]:\n",
    "    G[i] = lam_ceiling*A_ceiling/w_ceiling\n",
    "\n",
    "G[37] = h_c_in*A_ceiling\n",
    "\n",
    "# Ventilation\n",
    "V_a = A_ceiling*height_room\n",
    "V_dot_a = ACH*V_a/3600\n",
    "G[38] = rho_air*V_dot_a*cp_air\n",
    "\n",
    "# Controller\n",
    "G[39] = Kp\n",
    "\n",
    "# View Factors\n",
    "#-------------------------------------------------------\n"
   ],
   "id": "ce2a01391132dbbf",
   "outputs": [],
   "execution_count": 11
  },
  {
   "metadata": {},
   "cell_type": "markdown",
   "source": "## C",
   "id": "b200700d19c38938"
  },
  {
   "metadata": {
    "ExecuteTime": {
     "end_time": "2025-10-29T18:40:16.085232Z",
     "start_time": "2025-10-29T18:40:16.079673Z"
    }
   },
   "cell_type": "code",
   "source": [
    "C = np.zeros(n_nodes+1)\n",
    "\n",
    "# wall 1\n",
    "for i in [5,6,7]:\n",
    "    C[i] = c_concrete*rho_concrete*w_concrete*A_wall_1 / 3\n",
    "\n",
    "for i in [1,2,3]:\n",
    "    C[i] = c_insulation*rho_insulation*w_insulation*A_wall_1 / 3\n",
    "\n",
    "# wall 2\n",
    "for i in [15,16,17]:\n",
    "    C[i] = c_concrete*rho_concrete*w_concrete*A_wall_2 / 3\n",
    "\n",
    "for i in [11,12,13]:\n",
    "    C[i] = c_insulation*rho_insulation*w_insulation*A_wall_2 / 3\n",
    "\n",
    "# ceiling\n",
    "for i in [21,22,23]:\n",
    "    C[i] = c_ceiling*rho_ceiling*w_ceiling*A_ceiling / 3\n",
    "\n",
    "C[25] = cp_air*rho_air*V_a"
   ],
   "id": "9826e7b6a39f9c3b",
   "outputs": [],
   "execution_count": 12
  },
  {
   "metadata": {},
   "cell_type": "markdown",
   "source": "## b for steady state",
   "id": "56302b90bfc55683"
  },
  {
   "metadata": {
    "ExecuteTime": {
     "end_time": "2025-10-29T18:40:16.098991Z",
     "start_time": "2025-10-29T18:40:16.095490Z"
    }
   },
   "cell_type": "code",
   "source": [
    "b_ss = np.zeros(n_flows+1)\n",
    "\n",
    "for i in [0,11,15,26,28,38]:\n",
    "    b_ss[i] = To_ss\n",
    "\n",
    "b_ss[39] = Tisp\n"
   ],
   "id": "4d37b0cfb5ee68d3",
   "outputs": [],
   "execution_count": 13
  },
  {
   "metadata": {},
   "cell_type": "markdown",
   "source": "## f for steady state",
   "id": "3835f8c127eb2992"
  },
  {
   "metadata": {
    "ExecuteTime": {
     "end_time": "2025-10-29T18:40:16.114544Z",
     "start_time": "2025-10-29T18:40:16.109844Z"
    }
   },
   "cell_type": "code",
   "source": "f_ss = np.zeros(n_nodes+1)\n",
   "id": "634e2d95e55618b1",
   "outputs": [],
   "execution_count": 14
  },
  {
   "metadata": {},
   "cell_type": "markdown",
   "source": "## y",
   "id": "640ef41d87c420d2"
  },
  {
   "metadata": {
    "ExecuteTime": {
     "end_time": "2025-10-29T18:40:16.133658Z",
     "start_time": "2025-10-29T18:40:16.130043Z"
    }
   },
   "cell_type": "code",
   "source": [
    "y = np.zeros(n_nodes+1)\n",
    "\n",
    "for i in output_nodes:\n",
    "    y[i] = 1"
   ],
   "id": "3413b66e85738dd5",
   "outputs": [],
   "execution_count": 15
  },
  {
   "metadata": {},
   "cell_type": "markdown",
   "source": "# Solving the steady state",
   "id": "7cddb20291ef4662"
  },
  {
   "metadata": {
    "ExecuteTime": {
     "end_time": "2025-10-29T18:40:16.163361Z",
     "start_time": "2025-10-29T18:40:16.148993Z"
    }
   },
   "cell_type": "code",
   "source": [
    "diag_G = np.diag(G)\n",
    "\n",
    "theta_ss = np.linalg.inv(A.T @ diag_G @ A) @ (A.T @ diag_G @ b_ss + f_ss)\n",
    "print(f'Temperature inside = {np.around(theta_ss[25], 2)} °C')"
   ],
   "id": "17913b5d3f6d99b0",
   "outputs": [
    {
     "name": "stdout",
     "output_type": "stream",
     "text": [
      "Temperature inside = 21.2 °C\n"
     ]
    }
   ],
   "execution_count": 16
  },
  {
   "metadata": {},
   "cell_type": "markdown",
   "source": [
    "# Dynamic simulation\n",
    "\n",
    "## b and f sources for a dynamic simulation"
   ],
   "id": "53c92eb41dccbe95"
  },
  {
   "metadata": {
    "ExecuteTime": {
     "end_time": "2025-10-29T18:40:16.229749Z",
     "start_time": "2025-10-29T18:40:16.225029Z"
    }
   },
   "cell_type": "code",
   "source": [
    "b = np.zeros(n_flows+1)\n",
    "f = np.zeros(n_nodes+1)"
   ],
   "id": "7769387214e82ea",
   "outputs": [],
   "execution_count": 17
  },
  {
   "metadata": {},
   "cell_type": "markdown",
   "source": "## Assemble the thermal circuit",
   "id": "9b7351c3341ddfb"
  },
  {
   "metadata": {
    "ExecuteTime": {
     "end_time": "2025-10-29T18:40:16.299366Z",
     "start_time": "2025-10-29T18:40:16.247920Z"
    }
   },
   "cell_type": "code",
   "source": [
    "node_labels = [f\"θ{i}\" for i in range(n_nodes+1)]\n",
    "flow_labels = [f\"q{i}\" for i in range(n_flows+1)]\n",
    "\n",
    "A = pd.DataFrame(A, index=flow_labels, columns=node_labels)\n",
    "G = pd.Series(G, index=flow_labels, name=\"G\")\n",
    "C = pd.Series(C, index=node_labels, name=\"C\")\n",
    "b = pd.Series(b, index=flow_labels, name=\"b\").astype(\"object\")\n",
    "f = pd.Series(f, index=node_labels, name=\"f\").astype(\"object\")\n",
    "y = pd.Series(y, index=node_labels, name=\"y\")\n",
    "\n",
    "for i in [0,11,15,26,28,38]:\n",
    "    b[f\"q{i}\"] = \"To\"\n",
    "b[\"q39\"] = \"Tisp\"\n",
    "\n",
    "f[\"θ0\"] = \"phi_1_o\"; f[\"θ8\"] = \"phi_1_i\"\n",
    "f[\"θ10\"] = \"phi_2_o\"; f[\"θ18\"] = \"phi_2_i\"\n",
    "f[\"θ20\"] = \"phi_c_0\"; f[\"θ24\"] = \"phi_c_i\"\n",
    "\n",
    "TC = {\n",
    "    \"A\": A,\n",
    "    \"G\": G,\n",
    "    \"C\": C,\n",
    "    \"b\": b,\n",
    "    \"f\": f,\n",
    "    \"y\": y,\n",
    "}\n",
    "\n",
    "[As, Bs, Cs, Ds, us] = dm4bem.tc2ss(TC)"
   ],
   "id": "4159984ac6e9e0aa",
   "outputs": [],
   "execution_count": 18
  },
  {
   "metadata": {},
   "cell_type": "markdown",
   "source": "## Eigenvalues analysis",
   "id": "d6136c6aa7848d53"
  },
  {
   "metadata": {
    "ExecuteTime": {
     "end_time": "2025-10-29T18:40:16.337319Z",
     "start_time": "2025-10-29T18:40:16.313706Z"
    }
   },
   "cell_type": "code",
   "source": [
    "lam_eigen = np.linalg.eig(As)[0]\n",
    "\n",
    "# time step\n",
    "delta_tmax = 2 * min(-1. / lam_eigen)    # max time step for stability of Euler explicit\n",
    "dm4bem.print_rounded_time('Δtmax', delta_tmax)\n",
    "\n",
    "if imposed_time_step:\n",
    "    dt = delta_t\n",
    "else:\n",
    "    dt = dm4bem.round_time(delta_tmax)\n",
    "dm4bem.print_rounded_time('dt', dt)\n",
    "\n",
    "# settling time\n",
    "t_settle = 4 * max(-1 / lam_eigen)\n",
    "dm4bem.print_rounded_time('t_settle', t_settle)\n",
    "\n",
    "# duration: next multiple of 3600 s that is larger than t_settle\n",
    "duration = np.ceil(t_settle / 3600) * 3600\n",
    "dm4bem.print_rounded_time('duration', duration)"
   ],
   "id": "8d65218c09381794",
   "outputs": [
    {
     "name": "stdout",
     "output_type": "stream",
     "text": [
      "Δtmax = 209 s = 3.5 min\n",
      "dt = 180 s = 3.0 min\n",
      "t_settle = 2752158 s = 764.5 h\n",
      "duration = 2754000 s = 765.0 h\n"
     ]
    }
   ],
   "execution_count": 19
  },
  {
   "metadata": {},
   "cell_type": "markdown",
   "source": "## Step response",
   "id": "6f80bdc5d4b6eb7"
  },
  {
   "metadata": {
    "ExecuteTime": {
     "end_time": "2025-10-29T18:40:18.239714Z",
     "start_time": "2025-10-29T18:40:16.421598Z"
    }
   },
   "cell_type": "code",
   "source": [
    "# Create input_data_set\n",
    "\n",
    "n_stp = int(np.floor(duration / dt))    # number of time steps\n",
    "time_stp = pd.date_range(start=\"2025-01-01 00:00:00\",\n",
    "                           periods=n_stp, freq=f\"{int(dt)}s\")\n",
    "\n",
    "To_stp = To_stp * np.ones(n_stp)\n",
    "Ti_sp_stp = Tisp * np.ones(n_stp)\n",
    "phi_1_o_stp = 0 * np.ones(n_stp)\n",
    "Q_dot_stp = phi_1_i_stp = phi_2_o_stp = phi_2_i_stp = phi_c_o_stp = phi_c_i_stp = phi_1_o_stp\n",
    "\n",
    "data_stp = {'To': To_stp, 'Ti_sp': Ti_sp_stp, 'phi_1_o': phi_1_o_stp, 'phi_1_i': phi_1_i_stp,\n",
    "            'phi_2_o': phi_2_o_stp, 'phi_2_i': phi_2_i_stp, 'phi_c_o': phi_c_o_stp,\n",
    "            'phi_c_i': phi_c_i_stp,}\n",
    "input_data_set_stp = pd.DataFrame(data_stp, index=time_stp)\n",
    "u_stp = dm4bem.inputs_in_time(us, input_data_set_stp)\n"
   ],
   "id": "d7ddb294df037ea4",
   "outputs": [
    {
     "ename": "KeyError",
     "evalue": "'Tisp'",
     "output_type": "error",
     "traceback": [
      "\u001B[31m---------------------------------------------------------------------------\u001B[39m",
      "\u001B[31mKeyError\u001B[39m                                  Traceback (most recent call last)",
      "\u001B[36mFile \u001B[39m\u001B[32m~\\OneDrive\\Dokumente\\GitHub\\CE4IB\\.venv\\Lib\\site-packages\\pandas\\core\\indexes\\base.py:3812\u001B[39m, in \u001B[36mIndex.get_loc\u001B[39m\u001B[34m(self, key)\u001B[39m\n\u001B[32m   3811\u001B[39m \u001B[38;5;28;01mtry\u001B[39;00m:\n\u001B[32m-> \u001B[39m\u001B[32m3812\u001B[39m     \u001B[38;5;28;01mreturn\u001B[39;00m \u001B[38;5;28;43mself\u001B[39;49m\u001B[43m.\u001B[49m\u001B[43m_engine\u001B[49m\u001B[43m.\u001B[49m\u001B[43mget_loc\u001B[49m\u001B[43m(\u001B[49m\u001B[43mcasted_key\u001B[49m\u001B[43m)\u001B[49m\n\u001B[32m   3813\u001B[39m \u001B[38;5;28;01mexcept\u001B[39;00m \u001B[38;5;167;01mKeyError\u001B[39;00m \u001B[38;5;28;01mas\u001B[39;00m err:\n",
      "\u001B[36mFile \u001B[39m\u001B[32mpandas/_libs/index.pyx:167\u001B[39m, in \u001B[36mpandas._libs.index.IndexEngine.get_loc\u001B[39m\u001B[34m()\u001B[39m\n",
      "\u001B[36mFile \u001B[39m\u001B[32mpandas/_libs/index.pyx:196\u001B[39m, in \u001B[36mpandas._libs.index.IndexEngine.get_loc\u001B[39m\u001B[34m()\u001B[39m\n",
      "\u001B[36mFile \u001B[39m\u001B[32mpandas/_libs/hashtable_class_helper.pxi:7088\u001B[39m, in \u001B[36mpandas._libs.hashtable.PyObjectHashTable.get_item\u001B[39m\u001B[34m()\u001B[39m\n",
      "\u001B[36mFile \u001B[39m\u001B[32mpandas/_libs/hashtable_class_helper.pxi:7096\u001B[39m, in \u001B[36mpandas._libs.hashtable.PyObjectHashTable.get_item\u001B[39m\u001B[34m()\u001B[39m\n",
      "\u001B[31mKeyError\u001B[39m: 'Tisp'",
      "\nThe above exception was the direct cause of the following exception:\n",
      "\u001B[31mKeyError\u001B[39m                                  Traceback (most recent call last)",
      "\u001B[36mCell\u001B[39m\u001B[36m \u001B[39m\u001B[32mIn[20]\u001B[39m\u001B[32m, line 16\u001B[39m\n\u001B[32m     12\u001B[39m data_stp = {\u001B[33m'\u001B[39m\u001B[33mTo\u001B[39m\u001B[33m'\u001B[39m: To_stp, \u001B[33m'\u001B[39m\u001B[33mTi_sp\u001B[39m\u001B[33m'\u001B[39m: Ti_sp_stp, \u001B[33m'\u001B[39m\u001B[33mphi_1_o\u001B[39m\u001B[33m'\u001B[39m: phi_1_o_stp, \u001B[33m'\u001B[39m\u001B[33mphi_1_i\u001B[39m\u001B[33m'\u001B[39m: phi_1_i_stp,\n\u001B[32m     13\u001B[39m             \u001B[33m'\u001B[39m\u001B[33mphi_2_o\u001B[39m\u001B[33m'\u001B[39m: phi_2_o_stp, \u001B[33m'\u001B[39m\u001B[33mphi_2_i\u001B[39m\u001B[33m'\u001B[39m: phi_2_i_stp, \u001B[33m'\u001B[39m\u001B[33mphi_c_o\u001B[39m\u001B[33m'\u001B[39m: phi_c_o_stp,\n\u001B[32m     14\u001B[39m             \u001B[33m'\u001B[39m\u001B[33mphi_c_i\u001B[39m\u001B[33m'\u001B[39m: phi_c_i_stp,}\n\u001B[32m     15\u001B[39m input_data_set_stp = pd.DataFrame(data_stp, index=time_stp)\n\u001B[32m---> \u001B[39m\u001B[32m16\u001B[39m u_stp = \u001B[43mdm4bem\u001B[49m\u001B[43m.\u001B[49m\u001B[43minputs_in_time\u001B[49m\u001B[43m(\u001B[49m\u001B[43mus\u001B[49m\u001B[43m,\u001B[49m\u001B[43m \u001B[49m\u001B[43minput_data_set_stp\u001B[49m\u001B[43m)\u001B[49m\n",
      "\u001B[36mFile \u001B[39m\u001B[32m~\\OneDrive\\Dokumente\\GitHub\\CE4IB\\Personal_Project\\dm4bem.py:1569\u001B[39m, in \u001B[36minputs_in_time\u001B[39m\u001B[34m(us, input_data_set)\u001B[39m\n\u001B[32m   1453\u001B[39m \u001B[38;5;28;01mdef\u001B[39;00m\u001B[38;5;250m \u001B[39m\u001B[34minputs_in_time\u001B[39m(us, input_data_set):\n\u001B[32m   1454\u001B[39m \u001B[38;5;250m    \u001B[39m\u001B[33;03m\"\"\"\u001B[39;00m\n\u001B[32m   1455\u001B[39m \u001B[33;03m    Input vectors in time.\u001B[39;00m\n\u001B[32m   1456\u001B[39m \n\u001B[32m   (...)\u001B[39m\u001B[32m   1567\u001B[39m \u001B[33;03m    the sources, e.g., 'To', not of the branches/nodes, e.g., 'c1_q0'.\u001B[39;00m\n\u001B[32m   1568\u001B[39m \u001B[33;03m    \"\"\"\u001B[39;00m\n\u001B[32m-> \u001B[39m\u001B[32m1569\u001B[39m     u = pd.DataFrame({col: \u001B[43minput_data_set\u001B[49m\u001B[43m[\u001B[49m\u001B[43mus\u001B[49m\u001B[43m[\u001B[49m\u001B[43mcol\u001B[49m\u001B[43m]\u001B[49m\u001B[43m]\u001B[49m \u001B[38;5;28;01mfor\u001B[39;00m col \u001B[38;5;129;01min\u001B[39;00m us.index})\n\u001B[32m   1570\u001B[39m     \u001B[38;5;28;01mreturn\u001B[39;00m u\n",
      "\u001B[36mFile \u001B[39m\u001B[32m~\\OneDrive\\Dokumente\\GitHub\\CE4IB\\.venv\\Lib\\site-packages\\pandas\\core\\frame.py:4113\u001B[39m, in \u001B[36mDataFrame.__getitem__\u001B[39m\u001B[34m(self, key)\u001B[39m\n\u001B[32m   4111\u001B[39m \u001B[38;5;28;01mif\u001B[39;00m \u001B[38;5;28mself\u001B[39m.columns.nlevels > \u001B[32m1\u001B[39m:\n\u001B[32m   4112\u001B[39m     \u001B[38;5;28;01mreturn\u001B[39;00m \u001B[38;5;28mself\u001B[39m._getitem_multilevel(key)\n\u001B[32m-> \u001B[39m\u001B[32m4113\u001B[39m indexer = \u001B[38;5;28;43mself\u001B[39;49m\u001B[43m.\u001B[49m\u001B[43mcolumns\u001B[49m\u001B[43m.\u001B[49m\u001B[43mget_loc\u001B[49m\u001B[43m(\u001B[49m\u001B[43mkey\u001B[49m\u001B[43m)\u001B[49m\n\u001B[32m   4114\u001B[39m \u001B[38;5;28;01mif\u001B[39;00m is_integer(indexer):\n\u001B[32m   4115\u001B[39m     indexer = [indexer]\n",
      "\u001B[36mFile \u001B[39m\u001B[32m~\\OneDrive\\Dokumente\\GitHub\\CE4IB\\.venv\\Lib\\site-packages\\pandas\\core\\indexes\\base.py:3819\u001B[39m, in \u001B[36mIndex.get_loc\u001B[39m\u001B[34m(self, key)\u001B[39m\n\u001B[32m   3814\u001B[39m     \u001B[38;5;28;01mif\u001B[39;00m \u001B[38;5;28misinstance\u001B[39m(casted_key, \u001B[38;5;28mslice\u001B[39m) \u001B[38;5;129;01mor\u001B[39;00m (\n\u001B[32m   3815\u001B[39m         \u001B[38;5;28misinstance\u001B[39m(casted_key, abc.Iterable)\n\u001B[32m   3816\u001B[39m         \u001B[38;5;129;01mand\u001B[39;00m \u001B[38;5;28many\u001B[39m(\u001B[38;5;28misinstance\u001B[39m(x, \u001B[38;5;28mslice\u001B[39m) \u001B[38;5;28;01mfor\u001B[39;00m x \u001B[38;5;129;01min\u001B[39;00m casted_key)\n\u001B[32m   3817\u001B[39m     ):\n\u001B[32m   3818\u001B[39m         \u001B[38;5;28;01mraise\u001B[39;00m InvalidIndexError(key)\n\u001B[32m-> \u001B[39m\u001B[32m3819\u001B[39m     \u001B[38;5;28;01mraise\u001B[39;00m \u001B[38;5;167;01mKeyError\u001B[39;00m(key) \u001B[38;5;28;01mfrom\u001B[39;00m\u001B[38;5;250m \u001B[39m\u001B[34;01merr\u001B[39;00m\n\u001B[32m   3820\u001B[39m \u001B[38;5;28;01mexcept\u001B[39;00m \u001B[38;5;167;01mTypeError\u001B[39;00m:\n\u001B[32m   3821\u001B[39m     \u001B[38;5;66;03m# If we have a listlike key, _check_indexing_error will raise\u001B[39;00m\n\u001B[32m   3822\u001B[39m     \u001B[38;5;66;03m#  InvalidIndexError. Otherwise we fall through and re-raise\u001B[39;00m\n\u001B[32m   3823\u001B[39m     \u001B[38;5;66;03m#  the TypeError.\u001B[39;00m\n\u001B[32m   3824\u001B[39m     \u001B[38;5;28mself\u001B[39m._check_indexing_error(key)\n",
      "\u001B[31mKeyError\u001B[39m: 'Tisp'"
     ]
    }
   ],
   "execution_count": 20
  }
 ],
 "metadata": {
  "kernelspec": {
   "display_name": "Python 3",
   "language": "python",
   "name": "python3"
  },
  "language_info": {
   "codemirror_mode": {
    "name": "ipython",
    "version": 2
   },
   "file_extension": ".py",
   "mimetype": "text/x-python",
   "name": "python",
   "nbconvert_exporter": "python",
   "pygments_lexer": "ipython2",
   "version": "2.7.6"
  }
 },
 "nbformat": 4,
 "nbformat_minor": 5
}
