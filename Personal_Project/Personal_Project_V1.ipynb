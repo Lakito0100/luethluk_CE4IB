{
 "cells": [
  {
   "metadata": {
    "ExecuteTime": {
     "end_time": "2025-10-30T09:26:05.236913Z",
     "start_time": "2025-10-30T09:26:05.231545Z"
    }
   },
   "cell_type": "code",
   "source": [
    "import numpy as np\n",
    "import pandas as pd\n",
    "import matplotlib.pyplot as plt\n",
    "\n",
    "import dm4bem"
   ],
   "id": "dc7555ae006761d0",
   "outputs": [],
   "execution_count": 22
  },
  {
   "metadata": {},
   "cell_type": "markdown",
   "source": [
    "# Defining the simulation parameters\n",
    "\n",
    "## Define the setup"
   ],
   "id": "29b83a4dae477c8d"
  },
  {
   "metadata": {
    "ExecuteTime": {
     "end_time": "2025-10-30T09:26:05.278860Z",
     "start_time": "2025-10-30T09:26:05.273236Z"
    }
   },
   "cell_type": "code",
   "source": [
    "controller = True\n",
    "\n",
    "imposed_time_step = False\n",
    "delta_t = 500    # s, imposed time step\n",
    "\n",
    "calculate_step_response = False\n",
    "\n",
    "output_nodes = [25]"
   ],
   "id": "271514eeb0f7c48",
   "outputs": [],
   "execution_count": 23
  },
  {
   "metadata": {},
   "cell_type": "markdown",
   "source": "## Outside conditions",
   "id": "9886914e6a426163"
  },
  {
   "metadata": {
    "ExecuteTime": {
     "end_time": "2025-10-30T09:26:05.431250Z",
     "start_time": "2025-10-30T09:26:05.310818Z"
    }
   },
   "cell_type": "code",
   "source": [
    "To_ss = 10          # °C\n",
    "To_stp = 10         # °C\n",
    "\n",
    "# weather data\n",
    "filename = './weather_data/CHE_AG_Wuerenlingen.066470_TMYx.2009-2023.epw'\n",
    "[data, meta] = dm4bem.read_epw(filename, coerce_year=None)\n",
    "weather_data = data[[\"temp_air\", \"dir_n_rad\", \"dif_h_rad\"]]\n",
    "weather_data = weather_data.sort_index()\n",
    "\n"
   ],
   "id": "99a675f214600f0c",
   "outputs": [
    {
     "name": "stdout",
     "output_type": "stream",
     "text": [
      "first timestamp: 2015-03-01 00:00:00+01:00\n",
      "last timestamp: 2022-04-30 23:00:00+01:00\n",
      "temp_air     15.5\n",
      "dir_n_rad     0.0\n",
      "dif_h_rad     0.0\n",
      "Name: 2020-08-31 23:00:00+01:00, dtype: float64\n"
     ]
    }
   ],
   "execution_count": 24
  },
  {
   "metadata": {},
   "cell_type": "markdown",
   "source": "## Controller",
   "id": "929e37e28ed70191"
  },
  {
   "metadata": {
    "ExecuteTime": {
     "end_time": "2025-10-30T09:26:05.476836Z",
     "start_time": "2025-10-30T09:26:05.470132Z"
    }
   },
   "cell_type": "code",
   "source": [
    "Tisp = 22     # °C\n",
    "\n",
    "if controller:\n",
    "    Kp = 1e3\n",
    "else:\n",
    "    Kp = 0"
   ],
   "id": "ac1abf07d1f49301",
   "outputs": [],
   "execution_count": 25
  },
  {
   "metadata": {},
   "cell_type": "markdown",
   "source": "## Ventilation",
   "id": "7fd88072e7a43127"
  },
  {
   "metadata": {
    "ExecuteTime": {
     "end_time": "2025-10-30T09:26:05.508282Z",
     "start_time": "2025-10-30T09:26:05.504268Z"
    }
   },
   "cell_type": "code",
   "source": "ACH = 1",
   "id": "43dfcd6f65bf8474",
   "outputs": [],
   "execution_count": 26
  },
  {
   "metadata": {},
   "cell_type": "markdown",
   "source": "## Material properties",
   "id": "782e350331a0e893"
  },
  {
   "metadata": {
    "ExecuteTime": {
     "end_time": "2025-10-30T09:26:05.567725Z",
     "start_time": "2025-10-30T09:26:05.562006Z"
    }
   },
   "cell_type": "code",
   "source": [
    "# concrete\n",
    "lam_concrete = 1.4                          # W/(m⋅K)\n",
    "c_concrete = 880.0                          # J/(kg⋅K)\n",
    "rho_concrete = 2300.0                       # kg/m3\n",
    "\n",
    "# insulation\n",
    "lam_insulation = 0.004                      # W/(m⋅K)\n",
    "c_insulation = 1210.0                       # J/(kg⋅K)\n",
    "rho_insulation = 55.0                       # kg/m3\n",
    "\n",
    "# ceiling\n",
    "lam_ceiling = 0.5                           # W/(m⋅K)\n",
    "c_ceiling = 1000.0                          # J/(kg⋅K)\n",
    "rho_ceiling = 200.0                         # kg/m3\n",
    "\n",
    "# windows\n",
    "u_window = 1.2                              # W/(m²⋅K)\n",
    "\n",
    "# air\n",
    "cp_air = 1006                               # J/(kg⋅K)\n",
    "rho_air = 1.2                               # kg/m3"
   ],
   "id": "f68fea891ecdc179",
   "outputs": [],
   "execution_count": 27
  },
  {
   "metadata": {},
   "cell_type": "markdown",
   "source": "## Convection coefficients",
   "id": "3ad5a29cf483f69"
  },
  {
   "metadata": {
    "ExecuteTime": {
     "end_time": "2025-10-30T09:26:05.595840Z",
     "start_time": "2025-10-30T09:26:05.590594Z"
    }
   },
   "cell_type": "code",
   "source": [
    "h_in = 7.7                                  # W/(m²⋅K)\n",
    "h_out = 25                                  # W/(m²⋅K)\n",
    "\n",
    "h_c_in = 7.7                                # W/(m²⋅K)\n",
    "h_c_out = 25                                # W/(m²⋅K)"
   ],
   "id": "b65f812fdf128200",
   "outputs": [],
   "execution_count": 28
  },
  {
   "metadata": {},
   "cell_type": "markdown",
   "source": "## Geometry",
   "id": "1c8fe4d76348930"
  },
  {
   "metadata": {
    "ExecuteTime": {
     "end_time": "2025-10-30T09:26:05.629806Z",
     "start_time": "2025-10-30T09:26:05.622466Z"
    }
   },
   "cell_type": "code",
   "source": [
    "height_room = 2.5                             # m\n",
    "\n",
    "w_concrete = 0.4                            # m\n",
    "w_insulation = 0.05                         # m\n",
    "w_ceiling = 0.8                             # m\n",
    "\n",
    "width_wall1 = 5.3                             # m\n",
    "width_wall2 = 9.5                            # m\n",
    "width_wall3 = 9.2                            # m\n",
    "width_wall4 = 3.3                             # m\n",
    "\n",
    "width_windows = 2.5                           # m\n",
    "\n",
    "A_window_1 = width_windows*height_room      # m²\n",
    "A_wall_1 = width_wall1*height_room-A_window_1       # m²\n",
    "\n",
    "A_window_2 = width_windows*height_room * 2  # m²\n",
    "A_wall_2 = width_wall2*height_room-A_window_2      # m²\n",
    "\n",
    "A_ceiling = width_wall1*width_wall3 - width_wall3*(width_wall1-width_wall4)/2   # m²\n",
    "\n",
    "angle_wall = 80                             # °\n",
    "\n",
    "# Orientation definition\n",
    "wall_1_orientation = {'slope': 90,\n",
    "                      'azimuth': -90,\n",
    "                      'latitude': 45}\n",
    "albedo_wall_1 = 0.55\n",
    "\n",
    "wall_2_orientation = {'slope': 90,\n",
    "                      'azimuth': 90-angle_wall,\n",
    "                      'latitude': 45}\n",
    "albedo_wall_2 = 0.55\n",
    "\n",
    "ceiling_orientation = {'slope': 180,\n",
    "                       'azimuth': 0,\n",
    "                       'latitude':45}\n",
    "albedo_ceiling = 0.55"
   ],
   "id": "9453a537a054bb79",
   "outputs": [],
   "execution_count": 29
  },
  {
   "metadata": {},
   "cell_type": "markdown",
   "source": "## Emmisivities & view factors",
   "id": "7f19dda55cf6ef74"
  },
  {
   "metadata": {
    "ExecuteTime": {
     "end_time": "2025-10-30T09:26:05.693418Z",
     "start_time": "2025-10-30T09:26:05.686482Z"
    }
   },
   "cell_type": "code",
   "source": [
    "sigma = 5.67e-8     # W/(m²⋅K⁴) Stefan-Bolzmann constant\n",
    "\n",
    "eps_i = 0.96\n",
    "eps_a_w = 0.8\n",
    "eps_a_c = 0.7\n",
    "# check calculation ------------------------------------------------------------------------------------\n",
    "A12 = width_wall1/width_wall2\n",
    "F12 = (A12+1-np.sqrt(A12**2+1-2*A12*np.cos((angle_wall/360) * 2*np.pi)))/2\n",
    "H1c = width_wall2/width_wall1\n",
    "F1c = 0.5*(1+H1c - np.sqrt(1+H1c**2))\n",
    "H2c = width_wall1/width_wall2\n",
    "F2c = 0.5*(1+H2c - np.sqrt(1+H2c**2))"
   ],
   "id": "8ecbdf1acf9b33f4",
   "outputs": [],
   "execution_count": 30
  },
  {
   "metadata": {},
   "cell_type": "markdown",
   "source": [
    "# Defining the matrices and vectrors\n",
    "\n",
    "## A"
   ],
   "id": "377f7de845359055"
  },
  {
   "metadata": {
    "ExecuteTime": {
     "end_time": "2025-10-30T09:26:05.728818Z",
     "start_time": "2025-10-30T09:26:05.715586Z"
    }
   },
   "cell_type": "code",
   "source": [
    "n_nodes = 25\n",
    "n_flows = 39\n",
    "\n",
    "A = np.zeros((n_flows+1, n_nodes+1))\n",
    "A[0,0] = 1\n",
    "A[1,0] = -1; A[1,1] = 1\n",
    "A[2,1] = -1; A[2,2] = 1\n",
    "A[3,2] = -1; A[3,3] = 1\n",
    "A[4,3] = -1; A[4,4] = 1\n",
    "A[5,4] = -1; A[5,5] = 1\n",
    "A[6,5] = -1; A[6,6] = 1\n",
    "A[7,6] = -1; A[7,7] = 1\n",
    "A[8,7] = -1; A[8,8] = 1\n",
    "A[9,8] = -1; A[9,25] = 1\n",
    "A[10,8] = -1; A[10,18] = 1\n",
    "A[11,9] = 1\n",
    "A[12,9] = -1; A[12,25] = 1\n",
    "A[13,8] = -1; A[13,19] = 1\n",
    "A[14,9] = -1; A[14,18] = 1\n",
    "A[15,10] = 1\n",
    "A[16,10] = -1; A[16,11] = 1\n",
    "A[17,11] = -1; A[17,12] = 1\n",
    "A[18,12] = -1; A[18,13] = 1\n",
    "A[19,13] = -1; A[19,14] = 1\n",
    "A[20,14] = -1; A[20,15] = 1\n",
    "A[21,15] = -1; A[21,16] = 1\n",
    "A[22,16] = -1; A[22,17] = 1\n",
    "A[23,17] = -1; A[23,18] = 1\n",
    "A[24,18] = -1; A[24,25] = 1\n",
    "A[25,9] = -1; A[25,19] = 1\n",
    "A[26,19] = 1\n",
    "A[27,19] = -1; A[27,25] = 1\n",
    "A[28,20] = 1\n",
    "A[29,20] = -1; A[29,21] = 1\n",
    "A[30,21] = -1; A[30,22] = 1\n",
    "A[31,22] = -1; A[31,23] = 1\n",
    "A[32,23] = -1; A[32,24] = 1\n",
    "A[33,24] = -1; A[33,8] = 1\n",
    "A[34,24] = -1; A[34,9] = 1\n",
    "A[35,24] = -1; A[35,18] = 1\n",
    "A[36,24] = -1; A[36,19] = 1\n",
    "A[37,24] = -1; A[37,25] = 1\n",
    "A[38,25] = 1\n",
    "A[39,25] = 1\n"
   ],
   "id": "29f18080af464a8b",
   "outputs": [],
   "execution_count": 31
  },
  {
   "metadata": {},
   "cell_type": "markdown",
   "source": "## G",
   "id": "8175b43e4b95e69f"
  },
  {
   "metadata": {
    "ExecuteTime": {
     "end_time": "2025-10-30T09:26:05.757356Z",
     "start_time": "2025-10-30T09:26:05.748883Z"
    }
   },
   "cell_type": "code",
   "source": [
    "G = np.zeros(n_flows+1)\n",
    "\n",
    "# wall 1\n",
    "G[0] = h_out*A_wall_1\n",
    "\n",
    "# conduction concrete\n",
    "for i in [5,6,7,8]:\n",
    "    G[i] = lam_concrete*A_wall_1/w_concrete\n",
    "\n",
    "# conduction insulation\n",
    "for i in [1,2,3,4]:\n",
    "    G[i] = lam_insulation*A_wall_1/w_insulation\n",
    "\n",
    "G[9] = h_in*A_wall_1\n",
    "\n",
    "# window 1\n",
    "G[11] = u_window*A_window_1\n",
    "G[12] = h_in*A_window_1\n",
    "\n",
    "# wall 2\n",
    "G[15] = h_out*A_wall_2\n",
    "\n",
    "# conduction concrete\n",
    "for i in [20,21,22,23]:\n",
    "    G[i] = lam_concrete*A_wall_2/w_concrete\n",
    "\n",
    "# conduction insulation\n",
    "for i in [16,17,18,19]:\n",
    "    G[i] = lam_insulation*A_wall_2/w_insulation\n",
    "\n",
    "G[24] = h_in*A_wall_2\n",
    "\n",
    "# window 2\n",
    "G[26] = u_window*A_window_2\n",
    "G[27] = h_in*A_window_2\n",
    "\n",
    "# ceiling\n",
    "G[28] = h_c_out*A_ceiling\n",
    "\n",
    "for i in [29,30,31,32]:\n",
    "    G[i] = lam_ceiling*A_ceiling/w_ceiling\n",
    "\n",
    "G[37] = h_c_in*A_ceiling\n",
    "\n",
    "# Ventilation\n",
    "V_a = A_ceiling*height_room\n",
    "V_dot_a = ACH*V_a/3600\n",
    "G[38] = rho_air*V_dot_a*cp_air\n",
    "\n",
    "# Controller\n",
    "G[39] = Kp\n",
    "\n",
    "# View Factors\n",
    "#-------------------------------------------------------\n"
   ],
   "id": "ce2a01391132dbbf",
   "outputs": [],
   "execution_count": 32
  },
  {
   "metadata": {},
   "cell_type": "markdown",
   "source": "## C",
   "id": "b200700d19c38938"
  },
  {
   "metadata": {
    "ExecuteTime": {
     "end_time": "2025-10-30T09:26:05.784835Z",
     "start_time": "2025-10-30T09:26:05.778740Z"
    }
   },
   "cell_type": "code",
   "source": [
    "C = np.zeros(n_nodes+1)\n",
    "\n",
    "# wall 1\n",
    "for i in [5,6,7]:\n",
    "    C[i] = c_concrete*rho_concrete*w_concrete*A_wall_1 / 3\n",
    "\n",
    "for i in [1,2,3]:\n",
    "    C[i] = c_insulation*rho_insulation*w_insulation*A_wall_1 / 3\n",
    "\n",
    "# wall 2\n",
    "for i in [15,16,17]:\n",
    "    C[i] = c_concrete*rho_concrete*w_concrete*A_wall_2 / 3\n",
    "\n",
    "for i in [11,12,13]:\n",
    "    C[i] = c_insulation*rho_insulation*w_insulation*A_wall_2 / 3\n",
    "\n",
    "# ceiling\n",
    "for i in [21,22,23]:\n",
    "    C[i] = c_ceiling*rho_ceiling*w_ceiling*A_ceiling / 3\n",
    "\n",
    "C[25] = cp_air*rho_air*V_a"
   ],
   "id": "9826e7b6a39f9c3b",
   "outputs": [],
   "execution_count": 33
  },
  {
   "metadata": {},
   "cell_type": "markdown",
   "source": "## b for steady state",
   "id": "56302b90bfc55683"
  },
  {
   "metadata": {
    "ExecuteTime": {
     "end_time": "2025-10-30T09:26:05.804412Z",
     "start_time": "2025-10-30T09:26:05.799395Z"
    }
   },
   "cell_type": "code",
   "source": [
    "b_ss = np.zeros(n_flows+1)\n",
    "\n",
    "for i in [0,11,15,26,28,38]:\n",
    "    b_ss[i] = To_ss\n",
    "\n",
    "b_ss[39] = Tisp\n"
   ],
   "id": "4d37b0cfb5ee68d3",
   "outputs": [],
   "execution_count": 34
  },
  {
   "metadata": {},
   "cell_type": "markdown",
   "source": "## f for steady state",
   "id": "3835f8c127eb2992"
  },
  {
   "metadata": {
    "ExecuteTime": {
     "end_time": "2025-10-30T09:26:05.824825Z",
     "start_time": "2025-10-30T09:26:05.821610Z"
    }
   },
   "cell_type": "code",
   "source": "f_ss = np.zeros(n_nodes+1)\n",
   "id": "634e2d95e55618b1",
   "outputs": [],
   "execution_count": 35
  },
  {
   "metadata": {},
   "cell_type": "markdown",
   "source": "## y",
   "id": "640ef41d87c420d2"
  },
  {
   "metadata": {
    "ExecuteTime": {
     "end_time": "2025-10-30T09:26:05.840155Z",
     "start_time": "2025-10-30T09:26:05.836681Z"
    }
   },
   "cell_type": "code",
   "source": [
    "y = np.zeros(n_nodes+1)\n",
    "\n",
    "for i in output_nodes:\n",
    "    y[i] = 1"
   ],
   "id": "3413b66e85738dd5",
   "outputs": [],
   "execution_count": 36
  },
  {
   "metadata": {},
   "cell_type": "markdown",
   "source": "# Solving the steady state",
   "id": "7cddb20291ef4662"
  },
  {
   "metadata": {
    "ExecuteTime": {
     "end_time": "2025-10-30T09:26:05.865786Z",
     "start_time": "2025-10-30T09:26:05.861414Z"
    }
   },
   "cell_type": "code",
   "source": [
    "diag_G = np.diag(G)\n",
    "\n",
    "theta_ss = np.linalg.inv(A.T @ diag_G @ A) @ (A.T @ diag_G @ b_ss + f_ss)\n",
    "print(f'Temperature inside: {np.around(theta_ss[25], 2)} °C')"
   ],
   "id": "17913b5d3f6d99b0",
   "outputs": [
    {
     "name": "stdout",
     "output_type": "stream",
     "text": [
      "Temperature inside: 21.33 °C\n"
     ]
    }
   ],
   "execution_count": 37
  },
  {
   "metadata": {},
   "cell_type": "markdown",
   "source": [
    "# Dynamic simulation\n",
    "\n",
    "## b and f sources for a dynamic simulation"
   ],
   "id": "53c92eb41dccbe95"
  },
  {
   "metadata": {
    "ExecuteTime": {
     "end_time": "2025-10-30T09:26:05.904353Z",
     "start_time": "2025-10-30T09:26:05.901064Z"
    }
   },
   "cell_type": "code",
   "source": [
    "b = np.zeros(n_flows+1)\n",
    "f = np.zeros(n_nodes+1)"
   ],
   "id": "7769387214e82ea",
   "outputs": [],
   "execution_count": 38
  },
  {
   "metadata": {},
   "cell_type": "markdown",
   "source": "## Assemble the thermal circuit",
   "id": "9b7351c3341ddfb"
  },
  {
   "metadata": {
    "ExecuteTime": {
     "end_time": "2025-10-30T09:26:05.969999Z",
     "start_time": "2025-10-30T09:26:05.953179Z"
    }
   },
   "cell_type": "code",
   "source": [
    "node_labels = [f\"θ{i}\" for i in range(n_nodes+1)]\n",
    "flow_labels = [f\"q{i}\" for i in range(n_flows+1)]\n",
    "\n",
    "A = pd.DataFrame(A, index=flow_labels, columns=node_labels)\n",
    "G = pd.Series(G, index=flow_labels, name=\"G\")\n",
    "C = pd.Series(C, index=node_labels, name=\"C\")\n",
    "b = pd.Series(b, index=flow_labels, name=\"b\").astype(\"object\")\n",
    "f = pd.Series(f, index=node_labels, name=\"f\").astype(\"object\")\n",
    "y = pd.Series(y, index=node_labels, name=\"y\")\n",
    "\n",
    "for i in [0,11,15,26,28,38]:\n",
    "    b[f\"q{i}\"] = \"To\"\n",
    "b[\"q39\"] = \"Tisp\"\n",
    "\n",
    "f[\"θ0\"] = \"phi_1_o\"; f[\"θ8\"] = \"phi_1_i\"\n",
    "f[\"θ10\"] = \"phi_2_o\"; f[\"θ18\"] = \"phi_2_i\"\n",
    "f[\"θ20\"] = \"phi_c_o\"; f[\"θ24\"] = \"phi_c_i\"\n",
    "f[\"θ25\"] = \"Q_dot\"\n",
    "\n",
    "TC = {\n",
    "    \"A\": A,\n",
    "    \"G\": G,\n",
    "    \"C\": C,\n",
    "    \"b\": b,\n",
    "    \"f\": f,\n",
    "    \"y\": y,\n",
    "}\n",
    "\n",
    "[As, Bs, Cs, Ds, us] = dm4bem.tc2ss(TC)"
   ],
   "id": "4159984ac6e9e0aa",
   "outputs": [],
   "execution_count": 39
  },
  {
   "metadata": {},
   "cell_type": "markdown",
   "source": "## Eigenvalues analysis",
   "id": "d6136c6aa7848d53"
  },
  {
   "metadata": {
    "ExecuteTime": {
     "end_time": "2025-10-30T09:26:06.005843Z",
     "start_time": "2025-10-30T09:26:05.997047Z"
    }
   },
   "cell_type": "code",
   "source": [
    "lam_eigen = np.linalg.eig(As)[0]\n",
    "\n",
    "# time step\n",
    "delta_tmax = 2 * min(-1. / lam_eigen) * 0.5    # reducing the max time step by 0.5 for stability reasons\n",
    "dm4bem.print_rounded_time('Δtmax', delta_tmax)\n",
    "\n",
    "if imposed_time_step:\n",
    "    dt = delta_t\n",
    "else:\n",
    "    dt = dm4bem.round_time(delta_tmax)\n",
    "dm4bem.print_rounded_time('dt', dt)\n",
    "\n",
    "# settling time\n",
    "t_settle = 4 * max(-1 / lam_eigen)\n",
    "dm4bem.print_rounded_time('t_settle', t_settle)\n",
    "\n",
    "# duration: next multiple of 3600 s that is larger than t_settle\n",
    "duration = np.ceil(t_settle / 3600) * 3600\n",
    "dm4bem.print_rounded_time('duration', duration)"
   ],
   "id": "8d65218c09381794",
   "outputs": [
    {
     "name": "stdout",
     "output_type": "stream",
     "text": [
      "Δtmax = 106 s = 1.8 min\n",
      "dt = 60 s\n",
      "t_settle = 1970903 s = 547.5 h\n",
      "duration = 1972800 s = 548.0 h\n"
     ]
    }
   ],
   "execution_count": 40
  },
  {
   "metadata": {},
   "cell_type": "markdown",
   "source": "## Step response",
   "id": "6f80bdc5d4b6eb7"
  },
  {
   "metadata": {
    "ExecuteTime": {
     "end_time": "2025-10-30T09:26:06.057866Z",
     "start_time": "2025-10-30T09:26:06.049187Z"
    }
   },
   "cell_type": "code",
   "source": [
    "if calculate_step_response:\n",
    "\n",
    "    # Create input_data_set\n",
    "\n",
    "    n_stp = int(np.floor(duration / dt))    # number of time steps\n",
    "    time_stp = pd.date_range(start=\"2000-01-01 00:00:00\",\n",
    "                               periods=n_stp, freq=f\"{int(dt)}s\")\n",
    "\n",
    "    print(f'Number of time steps: {n_stp}')\n",
    "\n",
    "    To_stp = To_stp * np.ones(n_stp)\n",
    "    Ti_sp_stp = Tisp * np.ones(n_stp)\n",
    "    phi_1_o_stp = 0 * np.ones(n_stp)\n",
    "    Q_dot_stp = phi_1_i_stp = phi_2_o_stp = phi_2_i_stp = phi_c_o_stp = phi_c_i_stp = phi_1_o_stp\n",
    "\n",
    "    data_stp = {'To': To_stp, 'Tisp': Ti_sp_stp, 'phi_1_o': phi_1_o_stp, 'phi_1_i': phi_1_i_stp,\n",
    "                'phi_2_o': phi_2_o_stp, 'phi_2_i': phi_2_i_stp, 'phi_c_o': phi_c_o_stp,\n",
    "                'phi_c_i': phi_c_i_stp, 'Q_dot': Q_dot_stp}\n",
    "    input_data_set_stp = pd.DataFrame(data_stp, index=time_stp)\n",
    "    u_stp = dm4bem.inputs_in_time(us, input_data_set_stp)\n",
    "\n",
    "\n",
    "    # Initial conditions\n",
    "    theta_exp_stp = pd.DataFrame(index=u_stp.index)     # empty df with index for explicit Euler\n",
    "    theta_imp_stp = pd.DataFrame(index=u_stp.index)     # empty df with index for implicit Euler\n",
    "\n",
    "    theta_0 = 0.0                    # initial temperatures\n",
    "    theta_exp_stp[As.columns] = theta_0      # fill θ for Euler explicit with initial values θ0\n",
    "    theta_imp_stp[As.columns] = theta_0      # fill θ for Euler implicit with initial values θ0\n",
    "\n",
    "    I = np.eye(As.shape[0])     # identity matrix\n",
    "    for k in range(u_stp.shape[0] - 1):\n",
    "        theta_exp_stp.iloc[k + 1] = (I + dt * As)\\\n",
    "            @ theta_exp_stp.iloc[k] + dt * Bs @ u_stp.iloc[k]\n",
    "        theta_imp_stp.iloc[k + 1] = np.linalg.inv(I - dt * As)\\\n",
    "            @ (theta_imp_stp.iloc[k] + dt * Bs @ u_stp.iloc[k])\n",
    "\n",
    "    # outputs\n",
    "    y_exp_stp = (Cs @ theta_exp_stp.T + Ds @  u_stp.T).T\n",
    "    y_imp_stp = (Cs @ theta_imp_stp.T + Ds @  u_stp.T).T"
   ],
   "id": "d7ddb294df037ea4",
   "outputs": [],
   "execution_count": 41
  },
  {
   "metadata": {},
   "cell_type": "markdown",
   "source": "### Plot the data",
   "id": "ec82f07d32a50e22"
  },
  {
   "metadata": {
    "ExecuteTime": {
     "end_time": "2025-10-30T09:26:06.103765Z",
     "start_time": "2025-10-30T09:26:06.098363Z"
    }
   },
   "cell_type": "code",
   "source": [
    "if calculate_step_response:\n",
    "    # plot results\n",
    "    y_stp = pd.concat([y_exp_stp, y_imp_stp], axis=1, keys=['Explicit', 'Implicit'])\n",
    "    # Flatten the two-level column labels into a single level\n",
    "    y_stp.columns = y_stp.columns.get_level_values(0)\n",
    "\n",
    "    ax = y_stp.plot()\n",
    "    ax.set_xlabel('Time')\n",
    "    ax.set_ylabel('Indoor temperature, $\\\\theta_i$ / °C')\n",
    "    ax.set_title(f'Time step: $dt$ = {dt:.0f} s; $dt_{{max}}$ = {delta_tmax:.0f} s')\n",
    "    #ax.set_xlim([\"2000-01-01 00:00:00\", \"2000-01-02 00:00:00\"])\n",
    "    plt.show()"
   ],
   "id": "40af7a47d8b1b8da",
   "outputs": [],
   "execution_count": 42
  },
  {
   "metadata": {},
   "cell_type": "markdown",
   "source": "## Dynamic simulation with weather data",
   "id": "6b92129a7112d88b"
  },
  {
   "metadata": {
    "ExecuteTime": {
     "end_time": "2025-10-30T09:26:06.149115Z",
     "start_time": "2025-10-30T09:26:06.146930Z"
    }
   },
   "cell_type": "code",
   "source": "",
   "id": "88d500b3372d4091",
   "outputs": [],
   "execution_count": null
  }
 ],
 "metadata": {
  "kernelspec": {
   "display_name": "Python 3",
   "language": "python",
   "name": "python3"
  },
  "language_info": {
   "codemirror_mode": {
    "name": "ipython",
    "version": 2
   },
   "file_extension": ".py",
   "mimetype": "text/x-python",
   "name": "python",
   "nbconvert_exporter": "python",
   "pygments_lexer": "ipython2",
   "version": "2.7.6"
  }
 },
 "nbformat": 4,
 "nbformat_minor": 5
}
